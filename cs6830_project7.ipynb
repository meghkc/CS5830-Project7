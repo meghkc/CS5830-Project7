{
 "cells": [
  {
   "cell_type": "code",
   "execution_count": null,
   "metadata": {},
   "outputs": [],
   "source": [
    "# imports\n",
    "import pandas as pd\n",
    "import matplotlib.pyplot as plt\n",
    "from sklearn.linear_model import LogisticRegression\n",
    "import statsmodels.formula.api as smf\n",
    "import seaborn as sns\n",
    "import numpy as np\n",
    "from sklearn.metrics import precision_recall_fscore_support\n",
    "import random\n",
    "from sklearn.model_selection import train_test_split\n",
    "import statistics\n",
    "from sklearn.linear_model import LogisticRegression\n",
    "from sklearn.metrics import accuracy_score\n",
    "from sklearn.preprocessing import StandardScaler\n",
    "\n",
    "from sklearn.metrics import confusion_matrix, accuracy_score, classification_report"
   ]
  },
  {
   "cell_type": "code",
   "execution_count": null,
   "metadata": {},
   "outputs": [],
   "source": [
    "## dataset downloaded from https://www.kaggle.com/code/swannnn/wine-classification-logistic-regression/input\n",
    "## This datasets is related to red variants of the Portuguese \"Vinho Verde\" wine. For more details\n",
    "df=pd.read_csv('winequality-red.csv')\n",
    "# add index\n",
    "df['SN'] = np.arange(len(df)) \n",
    "\n",
    "# ## rename column names\n",
    "# df = df.rename(columns={'MALE': 'GENDER'})\n",
    "\n",
    "## replace spaces ' ' for xolumn names and add '_'\n",
    "df.columns = df.columns.str.replace(' ', '_')\n",
    "display(df)\n",
    "\n",
    "# Applying the condition to convert 6 qualities of wines in to 3 categories\n",
    "df.loc[df[\"quality\"] == 3, \"quality\"] = 0\n",
    "df.loc[df[\"quality\"] == 4, \"quality\"] = 0\n",
    "df.loc[df[\"quality\"] == 5, \"quality\"] = 1\n",
    "df.loc[df[\"quality\"] == 6, \"quality\"] = 1\n",
    "df.loc[df[\"quality\"] == 7, \"quality\"] = 2\n",
    "df.loc[df[\"quality\"] == 8, \"quality\"] = 2\n",
    "display(df)\n"
   ]
  },
  {
   "cell_type": "code",
   "execution_count": null,
   "metadata": {},
   "outputs": [],
   "source": [
    "df1=df.copy()\n",
    "print(df['quality'].unique())"
   ]
  },
  {
   "cell_type": "code",
   "execution_count": null,
   "metadata": {},
   "outputs": [],
   "source": [
    "# create dummy variables for wine quality using get_dummies, then exclude the first dummy column\n",
    "df = pd.get_dummies(df, columns = ['quality'], drop_first=True)\n",
    "df\n"
   ]
  },
  {
   "attachments": {},
   "cell_type": "markdown",
   "metadata": {},
   "source": [
    "#### explore the nature of relationship between dataset attributes"
   ]
  },
  {
   "cell_type": "code",
   "execution_count": null,
   "metadata": {},
   "outputs": [],
   "source": [
    "# Creating a heatmap\n",
    "plt.figure(figsize=(15,9))\n",
    "sns.heatmap(df.corr(),annot=True)\n",
    "## we can take the highly Correlated Values with Hot encoded Class Values"
   ]
  },
  {
   "cell_type": "code",
   "execution_count": null,
   "metadata": {},
   "outputs": [],
   "source": [
    "fig, ax = plt.subplots(2, 3, figsize=(10,10))\n",
    "\n",
    "ax = plt.subplot(3,2,1)\n",
    "sns.distplot(df1[df1.quality == 0].alcohol, hist=False, label='0')\n",
    "sns.distplot(df1[df1.quality == 1].alcohol, hist=False, label='1')\n",
    "sns.distplot(df1[df1.quality == 2].alcohol, hist=False, label='2')\n",
    "plt.legend()\n",
    "\n",
    "ax = plt.subplot(3,2,2)\n",
    "sns.distplot(df1[df1.quality == 0].residual_sugar, hist=False, label='0')\n",
    "sns.distplot(df1[df1.quality == 1].residual_sugar, hist=False, label='1')\n",
    "sns.distplot(df1[df1.quality == 2].residual_sugar, hist=False, label='2')\n",
    "plt.legend()\n",
    "\n",
    "ax = plt.subplot(3,2,3)\n",
    "sns.distplot(df1[df1.quality == 0].sulphates, hist=False, label='0')\n",
    "sns.distplot(df1[df1.quality == 1].sulphates, hist=False, label='1')\n",
    "sns.distplot(df1[df1.quality == 2].sulphates, hist=False, label='2')\n",
    "plt.legend()\n",
    "\n",
    "ax = plt.subplot(3,2,4)\n",
    "sns.distplot(df1[df1.quality == 0].chlorides, hist=False, label='0')\n",
    "sns.distplot(df1[df1.quality == 1].chlorides, hist=False, label='1')\n",
    "sns.distplot(df1[df1.quality == 2].chlorides, hist=False, label='2')\n",
    "plt.legend()\n",
    "\n",
    "ax = plt.subplot(3,2,5)\n",
    "sns.distplot(df1[df1.quality == 0].fixed_acidity, hist=False, label='0')\n",
    "sns.distplot(df1[df1.quality == 1].fixed_acidity, hist=False, label='1')\n",
    "sns.distplot(df1[df1.quality == 2].fixed_acidity, hist=False, label='2')\n",
    "plt.legend()\n",
    "\n",
    "ax = plt.subplot(3,2,6)\n",
    "sns.distplot(df1[df1.quality == 0].volatile_acidity, hist=False, label='0')\n",
    "sns.distplot(df1[df1.quality == 1].volatile_acidity, hist=False, label='1')\n",
    "sns.distplot(df1[df1.quality == 2].volatile_acidity, hist=False, label='2')\n",
    "plt.legend()"
   ]
  },
  {
   "attachments": {},
   "cell_type": "markdown",
   "metadata": {},
   "source": [
    "##### To Check whether the two variables selected are predictive when considered together, let's create a correlation plot"
   ]
  },
  {
   "cell_type": "code",
   "execution_count": null,
   "metadata": {},
   "outputs": [],
   "source": [
    "colors = {0:'blue',1:'red',2:'black'}\n",
    "fig, ax = plt.subplots(3, 1, figsize=(8,12))\n",
    "\n",
    "ax = plt.subplot(3,1,1)\n",
    "for Class in df1.quality.unique():\n",
    "  data = df1[df1.quality == Class]\n",
    "  ax.scatter(x=data.alcohol, y=data.residual_sugar, c=colors[Class], label=Class)\n",
    "ax.set_xlabel('Alcohol')\n",
    "ax.set_ylabel('Sugar')\n",
    "ax.legend()\n",
    "\n",
    "ax = plt.subplot(3,1,2)\n",
    "for Class in df1.quality.unique():\n",
    "  data = df1[df1.quality == Class]\n",
    "  ax.scatter(x=data.sulphates, y=data.chlorides, c=colors[Class], label=Class)\n",
    "ax.set_xlabel('sulphates')\n",
    "ax.set_ylabel('chlorides')\n",
    "ax.legend()\n",
    "\n",
    "ax = plt.subplot(3,1,3)\n",
    "for Class in df1.quality.unique():\n",
    "  data = df1[df1.quality == Class]\n",
    "  ax.scatter(x=data.fixed_acidity, y=data.volatile_acidity, c=colors[Class], label=Class)\n",
    "ax.set_xlabel('fixed_acidity')\n",
    "ax.set_ylabel('volatile_acidity')\n",
    "ax.legend()"
   ]
  },
  {
   "attachments": {},
   "cell_type": "markdown",
   "metadata": {},
   "source": [
    "##### Let's try Logistic Regression for alcohol and sugar as a nice distinction can be seen in the correlation plot"
   ]
  },
  {
   "cell_type": "code",
   "execution_count": null,
   "metadata": {},
   "outputs": [],
   "source": [
    "# Split the data for testing\\ Logistic regression with splits for predicting quality1 wine\n",
    "X1 = df[['alcohol','residual_sugar']]\n",
    "Y1 = df.quality_1\n",
    "\n",
    "X_train1, X_test1, Y_train1, Y_test1 = train_test_split(X1,Y1, test_size = 0.2)\n",
    "t = 0.35\n",
    "lm = LogisticRegression(class_weight={0:t, 1:1-t})\n",
    "lm.fit(X_train1, Y_train1)\n",
    "print(lm.intercept_)\n",
    "print(lm.coef_)\n",
    "\n",
    "Y_pred1 = lm.predict(X_test1)\n",
    "Y_pred1\n",
    "\n",
    "# display('predicted range: [{0:.2f},{1:.2f}]'.format(min(y_pred), max(y_pred)))\n",
    "p1,r1,f1,s1 = precision_recall_fscore_support(Y_test1, Y_pred1, labels=[0,1])\n",
    "display('precision = {}'.format(p1))\n",
    "display('recall = {}'.format(r1))\n",
    "display('f-score = {}'.format(f1))"
   ]
  },
  {
   "attachments": {},
   "cell_type": "markdown",
   "metadata": {},
   "source": [
    "Let's try Logistic Regression for chlorides and sulphates to disntinguish if a wine is **quality class 2** or not"
   ]
  },
  {
   "cell_type": "code",
   "execution_count": null,
   "metadata": {},
   "outputs": [],
   "source": [
    "# Split the data for testing\\ Logistic regression with splits for predicting quality Class2\n",
    "# Running model on total chlorides and sulphates\n",
    "X2 = df[['fixed_acidity','volatile_acidity']]\n",
    "Y2 = df.quality_2\n",
    "\n",
    "X_train2, X_test2, Y_train2, Y_test2 = train_test_split(X2,Y2, test_size = 0.2)\n",
    "t=0.15\n",
    "lm2 = LogisticRegression(class_weight={0:t, 1:1-t})\n",
    "lm2.fit(X_train2, Y_train2)\n",
    "print(lm2.intercept_)\n",
    "print(lm2.coef_)\n",
    "\n",
    "Y_pred2 = lm2.predict(X_test2)\n",
    "Y_pred2\n",
    "\n",
    "# display('predicted range: [{0:.2f},{1:.2f}]'.format(min(y_pred), max(y_pred)))\n",
    "p2,r2,f2,s2 = precision_recall_fscore_support(Y_test2, Y_pred2, labels=[0,1])\n",
    "display('precision = {}'.format(p2))\n",
    "display('recall = {}'.format(r2))\n",
    "display('f-score = {}'.format(f2))"
   ]
  },
  {
   "cell_type": "code",
   "execution_count": null,
   "metadata": {},
   "outputs": [],
   "source": [
    "# Plot the dataset colored by actual value\n",
    "color = ['r' if y_ == 0 else 'b' for y_ in Y2]\n",
    "plt.scatter(df.alcohol, df.residual_sugar, c=color, s=8)\n",
    "plt.xlabel('Alcohol')\n",
    "plt.ylabel('sugar')"
   ]
  },
  {
   "cell_type": "code",
   "execution_count": null,
   "metadata": {},
   "outputs": [],
   "source": [
    "# Plot the dataset colored by actual value\n",
    "color = ['r' if y_ == 0 else 'b' for y_ in Y2]\n",
    "plt.scatter(df.chlorides, df.sulphates, c=color, s=8)\n",
    "plt.xlabel('chlorides')\n",
    "plt.ylabel('sulphates')"
   ]
  },
  {
   "cell_type": "code",
   "execution_count": null,
   "metadata": {},
   "outputs": [],
   "source": [
    "color = ['r' if y_ == 0 else 'b' for y_ in Y2]\n",
    "plt.scatter(df.fixed_acidity, df.volatile_acidity, c=color, s=8)\n",
    "plt.xlabel('fixed acidity')\n",
    "plt.ylabel('volatile acidity')"
   ]
  },
  {
   "attachments": {},
   "cell_type": "markdown",
   "metadata": {},
   "source": [
    "##### decision Boubdary"
   ]
  },
  {
   "cell_type": "code",
   "execution_count": null,
   "metadata": {},
   "outputs": [],
   "source": [
    "# fOR Alcohol and Color Intensity\n",
    "color = ['r' if y_ == 0 else 'b' for y_ in Y2]\n",
    "plt.scatter(df.fixed_acidity, df.volatile_acidity, c=color, s=8)\n",
    "\n",
    "b0 = lm2.intercept_[0]\n",
    "b = lm2.coef_[0]\n",
    "\n",
    "Xdb = [4,15]\n",
    "ydb = [-(b0+b[0]*x)/b[1] for x in Xdb]\n",
    "plt.plot(Xdb, ydb)\n",
    "plt.xlabel('fixed_acidity')\n",
    "plt.ylabel('volatile_acidity')"
   ]
  },
  {
   "attachments": {},
   "cell_type": "markdown",
   "metadata": {},
   "source": [
    "##### Let's try Using Support Vector Machines to See the Difference"
   ]
  },
  {
   "cell_type": "code",
   "execution_count": null,
   "metadata": {},
   "outputs": [],
   "source": [
    "from sklearn import svm\n",
    "X = df[['fixed_acidity','volatile_acidity']]\n",
    "Y = df.quality_2\n",
    "X_train, X_test, Y_train, Y_test = train_test_split(X,Y, test_size = 0.2)\n",
    "\n",
    "clf = svm.SVC(kernel='linear', class_weight={0:1, 1:1})\n",
    "clf.fit(X_train, Y_train)\n",
    "\n",
    "Y_pred = clf.predict(X_test)\n",
    "p,r,f,s = precision_recall_fscore_support(Y_test, Y_pred)\n",
    "display('precision = {}'.format(p))\n",
    "display('recall = {}'.format(r))\n",
    "display('f-score = {}'.format(f))"
   ]
  }
 ],
 "metadata": {
  "colab": {
   "provenance": []
  },
  "kernelspec": {
   "display_name": "Python 3",
   "language": "python",
   "name": "python3"
  },
  "language_info": {
   "codemirror_mode": {
    "name": "ipython",
    "version": 3
   },
   "file_extension": ".py",
   "mimetype": "text/x-python",
   "name": "python",
   "nbconvert_exporter": "python",
   "pygments_lexer": "ipython3",
   "version": "3.10.4"
  }
 },
 "nbformat": 4,
 "nbformat_minor": 1
}
